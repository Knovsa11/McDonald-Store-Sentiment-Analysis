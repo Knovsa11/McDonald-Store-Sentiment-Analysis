{
  "nbformat": 4,
  "nbformat_minor": 0,
  "metadata": {
    "colab": {
      "provenance": []
    },
    "kernelspec": {
      "name": "python3",
      "display_name": "Python 3"
    },
    "language_info": {
      "name": "python"
    }
  },
  "cells": [
    {
      "cell_type": "markdown",
      "source": [
        "# Import Library"
      ],
      "metadata": {
        "id": "N028ssrQNAbr"
      }
    },
    {
      "cell_type": "code",
      "source": [
        "# Import libraries\n",
        "\n",
        "import pickle\n",
        "import pandas as pd\n",
        "import numpy as np\n",
        "import re\n",
        "import pickle\n",
        "from tensorflow.keras.models import load_model\n",
        "import nltk\n",
        "nltk.download('punkt')\n",
        "nltk.download('stopwords')\n",
        "from nltk.corpus import stopwords\n",
        "from nltk.stem import WordNetLemmatizer\n",
        "from nltk.tokenize import word_tokenize\n",
        "import nltk\n",
        "nltk.download('wordnet')\n",
        "# NN-related\n",
        "from tensorflow.keras.saving import load_model"
      ],
      "metadata": {
        "colab": {
          "base_uri": "https://localhost:8080/"
        },
        "id": "EqBxhGqGNOph",
        "outputId": "bb8c00bc-c535-453a-9aae-1b909a5255f8"
      },
      "execution_count": 21,
      "outputs": [
        {
          "output_type": "stream",
          "name": "stderr",
          "text": [
            "[nltk_data] Downloading package punkt to /root/nltk_data...\n",
            "[nltk_data]   Package punkt is already up-to-date!\n",
            "[nltk_data] Downloading package stopwords to /root/nltk_data...\n",
            "[nltk_data]   Package stopwords is already up-to-date!\n",
            "[nltk_data] Downloading package wordnet to /root/nltk_data...\n"
          ]
        }
      ]
    },
    {
      "cell_type": "markdown",
      "source": [
        "# Load Model"
      ],
      "metadata": {
        "id": "H-2rSvAFNDbP"
      }
    },
    {
      "cell_type": "code",
      "source": [
        "from tensorflow.keras.models import load_model\n",
        "from tensorflow_hub import KerasLayer\n",
        "\n",
        "# Load the trained model with custom objects\n",
        "model = load_model('/content/sentiment_model.h5', custom_objects={'KerasLayer': KerasLayer})"
      ],
      "metadata": {
        "id": "ipbzD5CmBejT"
      },
      "execution_count": 14,
      "outputs": []
    },
    {
      "cell_type": "markdown",
      "source": [
        "# Data inference"
      ],
      "metadata": {
        "id": "ewqKUuTuJMAq"
      }
    },
    {
      "cell_type": "code",
      "source": [
        "# Load data\n",
        "\n",
        "data_inf = {\n",
        "    'review' : 'The service is so bad'\n",
        "}\n",
        "\n",
        "data_inf = pd.DataFrame([data_inf])\n",
        "\n",
        "data_inf"
      ],
      "metadata": {
        "colab": {
          "base_uri": "https://localhost:8080/",
          "height": 81
        },
        "id": "PdjUlKEmJNH1",
        "outputId": "e8145993-21d4-4c71-9d18-28440c715090"
      },
      "execution_count": 19,
      "outputs": [
        {
          "output_type": "execute_result",
          "data": {
            "text/plain": [
              "                  review\n",
              "0  The service is so bad"
            ],
            "text/html": [
              "\n",
              "  <div id=\"df-da039e99-3b22-49ea-85ea-5929a18ba8d7\" class=\"colab-df-container\">\n",
              "    <div>\n",
              "<style scoped>\n",
              "    .dataframe tbody tr th:only-of-type {\n",
              "        vertical-align: middle;\n",
              "    }\n",
              "\n",
              "    .dataframe tbody tr th {\n",
              "        vertical-align: top;\n",
              "    }\n",
              "\n",
              "    .dataframe thead th {\n",
              "        text-align: right;\n",
              "    }\n",
              "</style>\n",
              "<table border=\"1\" class=\"dataframe\">\n",
              "  <thead>\n",
              "    <tr style=\"text-align: right;\">\n",
              "      <th></th>\n",
              "      <th>review</th>\n",
              "    </tr>\n",
              "  </thead>\n",
              "  <tbody>\n",
              "    <tr>\n",
              "      <th>0</th>\n",
              "      <td>The service is so bad</td>\n",
              "    </tr>\n",
              "  </tbody>\n",
              "</table>\n",
              "</div>\n",
              "    <div class=\"colab-df-buttons\">\n",
              "\n",
              "  <div class=\"colab-df-container\">\n",
              "    <button class=\"colab-df-convert\" onclick=\"convertToInteractive('df-da039e99-3b22-49ea-85ea-5929a18ba8d7')\"\n",
              "            title=\"Convert this dataframe to an interactive table.\"\n",
              "            style=\"display:none;\">\n",
              "\n",
              "  <svg xmlns=\"http://www.w3.org/2000/svg\" height=\"24px\" viewBox=\"0 -960 960 960\">\n",
              "    <path d=\"M120-120v-720h720v720H120Zm60-500h600v-160H180v160Zm220 220h160v-160H400v160Zm0 220h160v-160H400v160ZM180-400h160v-160H180v160Zm440 0h160v-160H620v160ZM180-180h160v-160H180v160Zm440 0h160v-160H620v160Z\"/>\n",
              "  </svg>\n",
              "    </button>\n",
              "\n",
              "  <style>\n",
              "    .colab-df-container {\n",
              "      display:flex;\n",
              "      gap: 12px;\n",
              "    }\n",
              "\n",
              "    .colab-df-convert {\n",
              "      background-color: #E8F0FE;\n",
              "      border: none;\n",
              "      border-radius: 50%;\n",
              "      cursor: pointer;\n",
              "      display: none;\n",
              "      fill: #1967D2;\n",
              "      height: 32px;\n",
              "      padding: 0 0 0 0;\n",
              "      width: 32px;\n",
              "    }\n",
              "\n",
              "    .colab-df-convert:hover {\n",
              "      background-color: #E2EBFA;\n",
              "      box-shadow: 0px 1px 2px rgba(60, 64, 67, 0.3), 0px 1px 3px 1px rgba(60, 64, 67, 0.15);\n",
              "      fill: #174EA6;\n",
              "    }\n",
              "\n",
              "    .colab-df-buttons div {\n",
              "      margin-bottom: 4px;\n",
              "    }\n",
              "\n",
              "    [theme=dark] .colab-df-convert {\n",
              "      background-color: #3B4455;\n",
              "      fill: #D2E3FC;\n",
              "    }\n",
              "\n",
              "    [theme=dark] .colab-df-convert:hover {\n",
              "      background-color: #434B5C;\n",
              "      box-shadow: 0px 1px 3px 1px rgba(0, 0, 0, 0.15);\n",
              "      filter: drop-shadow(0px 1px 2px rgba(0, 0, 0, 0.3));\n",
              "      fill: #FFFFFF;\n",
              "    }\n",
              "  </style>\n",
              "\n",
              "    <script>\n",
              "      const buttonEl =\n",
              "        document.querySelector('#df-da039e99-3b22-49ea-85ea-5929a18ba8d7 button.colab-df-convert');\n",
              "      buttonEl.style.display =\n",
              "        google.colab.kernel.accessAllowed ? 'block' : 'none';\n",
              "\n",
              "      async function convertToInteractive(key) {\n",
              "        const element = document.querySelector('#df-da039e99-3b22-49ea-85ea-5929a18ba8d7');\n",
              "        const dataTable =\n",
              "          await google.colab.kernel.invokeFunction('convertToInteractive',\n",
              "                                                    [key], {});\n",
              "        if (!dataTable) return;\n",
              "\n",
              "        const docLinkHtml = 'Like what you see? Visit the ' +\n",
              "          '<a target=\"_blank\" href=https://colab.research.google.com/notebooks/data_table.ipynb>data table notebook</a>'\n",
              "          + ' to learn more about interactive tables.';\n",
              "        element.innerHTML = '';\n",
              "        dataTable['output_type'] = 'display_data';\n",
              "        await google.colab.output.renderOutput(dataTable, element);\n",
              "        const docLink = document.createElement('div');\n",
              "        docLink.innerHTML = docLinkHtml;\n",
              "        element.appendChild(docLink);\n",
              "      }\n",
              "    </script>\n",
              "  </div>\n",
              "\n",
              "    </div>\n",
              "  </div>\n"
            ],
            "application/vnd.google.colaboratory.intrinsic+json": {
              "type": "dataframe",
              "variable_name": "data_inf",
              "summary": "{\n  \"name\": \"data_inf\",\n  \"rows\": 1,\n  \"fields\": [\n    {\n      \"column\": \"review\",\n      \"properties\": {\n        \"dtype\": \"string\",\n        \"num_unique_values\": 1,\n        \"samples\": [\n          \"The service is so bad\"\n        ],\n        \"semantic_type\": \"\",\n        \"description\": \"\"\n      }\n    }\n  ]\n}"
            }
          },
          "metadata": {},
          "execution_count": 19
        }
      ]
    },
    {
      "cell_type": "markdown",
      "source": [
        "# Preprocessing"
      ],
      "metadata": {
        "id": "IzqG7dBQhKip"
      }
    },
    {
      "cell_type": "code",
      "source": [
        "# Membuat stopword\n",
        "stpwds_en = list(set(stopwords.words('english')))"
      ],
      "metadata": {
        "id": "Rgz-Bod_hgbL"
      },
      "execution_count": 15,
      "outputs": []
    },
    {
      "cell_type": "code",
      "source": [
        "# Membuat variabel stopword tambahan\n",
        "additional_stopwords = ['food','order', 'McDonald', '½', 'ï', '½ï', 'drive thru']"
      ],
      "metadata": {
        "id": "IJo1OpSihnqK"
      },
      "execution_count": 16,
      "outputs": []
    },
    {
      "cell_type": "code",
      "source": [
        "lemmatizer = WordNetLemmatizer()"
      ],
      "metadata": {
        "id": "6wKiJl8mh7Lo"
      },
      "execution_count": 17,
      "outputs": []
    },
    {
      "cell_type": "code",
      "source": [
        "# Membuat fungsi untuk text preprocessing\n",
        "def text_preprocessing(text):\n",
        "  # Case folding\n",
        "  text = text.lower()\n",
        "\n",
        "  # Mention removal\n",
        "  text = re.sub('[^a-zA-Z]', ' ', text)\n",
        "\n",
        "  # Hashtags removal\n",
        "  text = re.sub(\"#[A-Za-z0-9_]+\", \" \", text)\n",
        "\n",
        "  # Newline removal (\\n)\n",
        "  text = re.sub(r\"\\\\n\", \" \",text)\n",
        "\n",
        "  # Whitespace removal\n",
        "  text = text.strip()\n",
        "\n",
        "  # Tokenization\n",
        "  tokens = word_tokenize(text)\n",
        "\n",
        "  # Stopwords removal\n",
        "  tokens = [word for word in tokens if word not in stpwds_en]\n",
        "  tokens = [word for word in tokens if word not in additional_stopwords]\n",
        "\n",
        "  #Lemmatizing\n",
        "  tokens = [lemmatizer.lemmatize(word) for word in tokens]\n",
        "\n",
        "  # Combining Tokens\n",
        "  text = ' '.join(tokens)\n",
        "\n",
        "  return text\n",
        "\n",
        "# Applying Text Preprocessing to the Dataset\n",
        "data_inf['review_processed'] = data_inf['review'].apply(lambda x: text_preprocessing(x))"
      ],
      "metadata": {
        "id": "U83OsQaChNWR"
      },
      "execution_count": 22,
      "outputs": []
    },
    {
      "cell_type": "code",
      "source": [
        "# Model Evaluation (test-set)\n",
        "\n",
        "y_pred_seq = model.predict(data_inf['review_processed'])\n",
        "y_pred_seq = np.where(y_pred_seq >= 0.5, 1, 0)\n",
        "\n",
        "if y_pred_seq ==0:\n",
        "  print(y_pred_seq, \" : This sentiment is a sentiment that does not like McDonald's service\")\n",
        "else:\n",
        "  print(y_pred_seq, \" :This sentiment is a sentiment that likes McDonald's service\")"
      ],
      "metadata": {
        "id": "KdpHNGk0y4v3",
        "colab": {
          "base_uri": "https://localhost:8080/"
        },
        "outputId": "0e23094f-6c83-454f-8252-5b37bd7358ce"
      },
      "execution_count": 23,
      "outputs": [
        {
          "output_type": "stream",
          "name": "stdout",
          "text": [
            "1/1 [==============================] - 2s 2s/step\n",
            "[[0]]  : This sentiment is a sentiment that does not like McDonald's service\n"
          ]
        }
      ]
    },
    {
      "cell_type": "markdown",
      "source": [
        "Berdasarkan hasil prediksi menggunakan data inference, didapatkan hasil = 0, yang mana menandakan bahwa konsumen tidak menyukai pelayanan McDonald"
      ],
      "metadata": {
        "id": "S0mbA9-0MuCX"
      }
    }
  ]
}